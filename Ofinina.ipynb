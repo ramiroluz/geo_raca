{
  "nbformat": 4,
  "nbformat_minor": 0,
  "metadata": {
    "colab": {
      "provenance": []
    },
    "kernelspec": {
      "name": "python3",
      "display_name": "Python 3"
    },
    "language_info": {
      "name": "python"
    }
  },
  "cells": [
    {
      "cell_type": "code",
      "execution_count": 2,
      "metadata": {
        "colab": {
          "base_uri": "https://localhost:8080/"
        },
        "id": "95gSNHm2wPpb",
        "outputId": "bab19117-f488-43de-e5bc-900960a610d8"
      },
      "outputs": [
        {
          "output_type": "stream",
          "name": "stdout",
          "text": [
            "Mounted at /content/drive\n"
          ]
        }
      ],
      "source": [
        "# prompt: from colab import and mount drive\n",
        "\n",
        "from google.colab import drive\n",
        "drive.mount('/content/drive')"
      ]
    },
    {
      "cell_type": "code",
      "source": [
        "%cd '/content/drive/MyDrive/Colab Notebooks/oficina_racismo_ambiental/dados/'"
      ],
      "metadata": {
        "colab": {
          "base_uri": "https://localhost:8080/"
        },
        "id": "pe1k-Q2U1Sxq",
        "outputId": "13769a24-e877-4a4a-8130-c69158b776c2"
      },
      "execution_count": 12,
      "outputs": [
        {
          "output_type": "stream",
          "name": "stdout",
          "text": [
            "/content/drive/MyDrive/Colab Notebooks/oficina_racismo_ambiental/dados\n"
          ]
        }
      ]
    },
    {
      "cell_type": "code",
      "source": [
        "import os\n",
        "print(os.getcwd())"
      ],
      "metadata": {
        "colab": {
          "base_uri": "https://localhost:8080/"
        },
        "id": "KSMX683G1sdq",
        "outputId": "8b32cd54-63ea-4ea3-851e-8b25fccb3af4"
      },
      "execution_count": 14,
      "outputs": [
        {
          "output_type": "stream",
          "name": "stdout",
          "text": [
            "/content/drive/MyDrive/Colab Notebooks/oficina_racismo_ambiental/dados\n"
          ]
        }
      ]
    },
    {
      "cell_type": "code",
      "source": [
        "!ls\n"
      ],
      "metadata": {
        "colab": {
          "base_uri": "https://localhost:8080/"
        },
        "id": "l-TTzLXq1yzC",
        "outputId": "d1e0fcef-aa02-46a0-e87f-5de0357a9cc6"
      },
      "execution_count": 15,
      "outputs": [
        {
          "output_type": "stream",
          "name": "stdout",
          "text": [
            "CodigosMuniRJ.csv\n"
          ]
        }
      ]
    },
    {
      "cell_type": "code",
      "source": [
        "# Importando as bibliotecas necessárias\n",
        "import pandas as pd\n",
        "import numpy as np\n",
        "import matplotlib.pyplot as plt\n",
        "import seaborn as sns\n",
        "import folium\n",
        "import plotly.express as px\n",
        "import geopandas as gpd\n",
        "from folium.plugins import HeatMap"
      ],
      "metadata": {
        "id": "SSIabMS714kS"
      },
      "execution_count": 16,
      "outputs": []
    },
    {
      "cell_type": "code",
      "source": [
        "# Configurações globais para visualização\n",
        "pd.options.display.float_format = '{:.2f}'.format\n",
        "pd.set_option('display.max_columns', None)\n",
        "plt.style.use(\"ggplot\")"
      ],
      "metadata": {
        "id": "NJXeNyzy1-QA"
      },
      "execution_count": 17,
      "outputs": []
    },
    {
      "cell_type": "code",
      "source": [
        "# Configurações globais\n",
        "crs = {'proj': 'latlong', 'ellps': 'WGS84', 'datum': 'WGS84'}\n",
        "pd.set_option('display.float_format', '{:.2f}'.format)\n",
        "plt.style.use(\"ggplot\")"
      ],
      "metadata": {
        "id": "gewqxCR_2C4Y"
      },
      "execution_count": 18,
      "outputs": []
    },
    {
      "cell_type": "code",
      "source": [
        "# Funções Utilitárias\n",
        "\n",
        "def carregar_dados(caminho_populacao, caminho_codigos):\n",
        "    \"\"\"Carrega os dados de população e códigos de municípios, realizando o tratamento inicial.\"\"\"\n",
        "    # Carregar os dados de população\n",
        "    populacao = pd.read_excel(caminho_populacao)\n",
        "    # Carregar os códigos dos municípios\n",
        "    codigos = pd.read_csv(caminho_codigos).drop(columns=['Unnamed: 0'], errors='ignore')\n",
        "    # Unir os dados com base no código IBGE\n",
        "    dados = pd.merge(codigos, populacao, how='left', on='COD_IBGE')\n",
        "    dados.info()  # Exibir informações básicas dos dados\n",
        "    return dados\n",
        "\n",
        "def calcular_populacao_negra(df):\n",
        "    \"\"\"Calcula a população negra total e percentual, somando as populações Preta e Parda.\"\"\"\n",
        "    df['NEGRA'] = df['PRETA'] + df['PARDA']\n",
        "    df['NEGRA%'] = (df['NEGRA'] / df['TOTAL']) * 100\n",
        "    return df\n",
        "\n",
        "def ajustar_populacao(df, coluna):\n",
        "    \"\"\"Ajusta a população total para evitar duplicação de dados.\"\"\"\n",
        "    df[coluna] = df[coluna] // 2\n",
        "    return df\n",
        "\n",
        "def categorizar_percentual(df, coluna, percentis):\n",
        "    \"\"\"Classifica os municípios em faixas de percentuais com base nos percentis fornecidos.\"\"\"\n",
        "    categorias = pd.cut(\n",
        "        df[coluna],\n",
        "        bins=[0] + list(percentis) + [100],\n",
        "        labels=[\n",
        "            'Menor que 35%', '35% a 39%', '40% a 44%', '45% a 49%',\n",
        "            '50% a 54%', '55% a 59%', '60% a 64%', '65% a 69%',\n",
        "            '70% a 75%', 'Maior que 75%'\n",
        "        ]\n",
        "    )\n",
        "    df['FAIXA_PERCENTUAL_NEGROS'] = categorias\n",
        "    return df\n",
        "\n",
        "def criar_mapa_choropleth(df, coluna_percentual, legenda, localizacao=[-22, -43], zoom_inicial=8):\n",
        "    \"\"\"Cria um mapa choropleth para visualização geoespacial dos dados.\"\"\"\n",
        "    mapa = folium.Map(location=localizacao, zoom_start=zoom_inicial)\n",
        "    folium.Choropleth(\n",
        "        geo_data='https://raw.githubusercontent.com/tbrugz/geodata-br/master/geojson/geojs-33-mun.json',\n",
        "        name='choropleth',\n",
        "        data=df,\n",
        "        columns=['id', coluna_percentual],\n",
        "        key_on='properties.id',\n",
        "        fill_color='YlOrBr',\n",
        "        fill_opacity=0.7,\n",
        "        line_opacity=0.5,\n",
        "        legend_name=legenda\n",
        "    ).add_to(mapa)\n",
        "    return mapa\n",
        "\n",
        "def exportar_dados(df, caminho_saida):\n",
        "    \"\"\"Exporta os dados para um arquivo Excel, ordenados pelo percentual de população negra.\"\"\"\n",
        "    df_ordenado = df.sort_values(by='NEGRA%', ascending=False)\n",
        "    df_ordenado.to_excel(caminho_saida, index=False)\n",
        "    print(f\"Dados exportados para: {caminho_saida}\")"
      ],
      "metadata": {
        "id": "DL0gVnuo2LKf"
      },
      "execution_count": 19,
      "outputs": []
    },
    {
      "cell_type": "code",
      "source": [
        "# Definindo os caminhos dos arquivos\n",
        "caminho_populacao = '/content/drive/MyDrive/Colab Notebooks/oficina_racismo_ambiental/dados/RacismoAmbiental/Pop_Raca_MUNI_RJ_2022.xlsx'\n",
        "caminho_codigos = '/content/drive/MyDrive/Colab Notebooks/oficina_racismo_ambiental/dados/RacismoAmbiental/CodigosMuniRJ.csv'\n",
        "caminho_saida = '/content/drive/MyDrive/Colab Notebooks/oficina_racismo_ambiental/dados/RacismoAmbiental/NegrosMunicipios.xlsx'"
      ],
      "metadata": {
        "id": "SLtW1Cdn2TYo"
      },
      "execution_count": 20,
      "outputs": []
    },
    {
      "cell_type": "code",
      "source": [
        "# Carregar e tratar os dados\n",
        "dados = carregar_dados(caminho_populacao, caminho_codigos)\n",
        "dados = calcular_populacao_negra(dados)\n",
        "dados = ajustar_populacao(dados, 'POP_TOTAL')"
      ],
      "metadata": {
        "id": "a2gGGRgA2n-O"
      },
      "execution_count": null,
      "outputs": []
    },
    {
      "cell_type": "code",
      "source": [
        "# Calcular percentis e categorizar\n",
        "percentis_calculados = np.percentile(dados['NEGRA%'], [33, 35, 40, 45, 50, 55, 60, 65, 70, 75])\n",
        "dados = categorizar_percentual(dados, 'NEGRA%', percentis_calculados)"
      ],
      "metadata": {
        "id": "cFO_8KMx2sQw"
      },
      "execution_count": null,
      "outputs": []
    },
    {
      "cell_type": "code",
      "source": [
        "# Exportar dados ordenados por percentual de população negra\n",
        "exportar_dados(dados, caminho_saida)\n"
      ],
      "metadata": {
        "id": "W1nRSQZX2vif"
      },
      "execution_count": null,
      "outputs": []
    },
    {
      "cell_type": "code",
      "source": [
        "# Visualização da distribuição da população negra com Matplotlib e Seaborn\n",
        "plt.figure(figsize=(10, 6))\n",
        "sns.histplot(dados['NEGRA%'], bins=20, kde=True)\n",
        "plt.title('Distribuição da População Negra (%) por Município')\n",
        "plt.xlabel('Percentual de População Negra')\n",
        "plt.ylabel('Frequência')\n",
        "plt.show()"
      ],
      "metadata": {
        "id": "SrJjrHJs5f5F"
      },
      "execution_count": null,
      "outputs": []
    },
    {
      "cell_type": "code",
      "source": [
        "# Carregar os dados de esgotamento sanitário\n",
        "caminho_esgoto = '/content/drive/MyDrive/Colab Notebooks/RacismoAmbiental/Esgotamento_Sanitario_Raca_RJ.xlsx'\n",
        "df_esgoto = pd.read_excel(caminho_esgoto)\n",
        "df_esgoto.rename(columns={'CD_MUN': 'id'}, inplace=True)"
      ],
      "metadata": {
        "id": "0EuHvvi_5jfM"
      },
      "execution_count": null,
      "outputs": []
    },
    {
      "cell_type": "code",
      "source": [
        "# Tratar os dados de esgotamento sanitário\n",
        "df_esgoto = ajustar_populacao(df_esgoto, 'Pop_Total_Muni')\n"
      ],
      "metadata": {
        "id": "RitywhlG5ntE"
      },
      "execution_count": null,
      "outputs": []
    },
    {
      "cell_type": "code",
      "source": [
        "# Visualização interativa com Plotly para esgotamento sanitário\n",
        "fig = px.histogram(df_esgoto, x='Negra%', title='Distribuição de Esgotamento Sanitário por Raça')\n",
        "fig.show()"
      ],
      "metadata": {
        "id": "devjcW355q07"
      },
      "execution_count": null,
      "outputs": []
    },
    {
      "cell_type": "code",
      "source": [
        "# Criar mapa choropleth para visualização geoespacial\n",
        "mapa = criar_mapa_choropleth(dados, 'NEGRA%', 'Percentual de População Negra')\n",
        "mapa.save('/content/drive/MyDrive/Colab Notebooks/RacismoAmbiental/MapaNegrosMunicipiosRJ.html')"
      ],
      "metadata": {
        "id": "WnLOO0KK50M2"
      },
      "execution_count": null,
      "outputs": []
    },
    {
      "cell_type": "code",
      "source": [
        "# Funções Utilitárias\n",
        "\n",
        "def carregar_dados_geograficos(caminho_geojson):\n",
        "    \"\"\"Carrega os dados geográficos a partir de um arquivo GeoJSON.\"\"\"\n",
        "    gdf = gpd.read_file(caminho_geojson)\n",
        "    gdf['CD_MUN'] = gdf['CD_MUN'].astype(int)\n",
        "    print(f\"Dados geográficos carregados: {gdf.shape[0]} registros.\")\n",
        "    return gdf\n",
        "\n",
        "def carregar_dados_estatisticos(caminho_csv, caminho_excel1, caminho_excel2):\n",
        "    \"\"\"Carrega os dados estatísticos de esgotamento, lixo e água.\"\"\"\n",
        "    esgoto = pd.read_csv(caminho_csv)\n",
        "    lixo = pd.read_excel(caminho_excel1)\n",
        "    agua = pd.read_excel(caminho_excel2)\n",
        "    print(\"Dados estatísticos carregados.\")\n",
        "    return esgoto, lixo, agua\n",
        "\n",
        "def merge_dados_geograficos(gdf, df_estatistico, coluna_geografica, coluna_estatistica):\n",
        "    \"\"\"Faz o merge dos dados geográficos com os estatísticos.\"\"\"\n",
        "    merged = gdf.merge(df_estatistico, left_on=coluna_geografica, right_on=coluna_estatistica, how='left')\n",
        "    print(f\"Merge realizado: {merged.shape[0]} registros.\")\n",
        "    return merged\n",
        "\n",
        "def tratar_percentuais(df, colunas):\n",
        "    \"\"\"Converte as colunas de percentual para o tipo float e substitui vírgulas por pontos.\"\"\"\n",
        "    for coluna in colunas:\n",
        "        df[coluna] = df[coluna].str.replace(',', '.').astype(float)\n",
        "    return df\n",
        "\n",
        "def calcular_centroides(df):\n",
        "    \"\"\"Calcula os centroides das geometrias e adiciona colunas de latitude e longitude.\"\"\"\n",
        "    df['latitude'] = df['geometry'].centroid.y\n",
        "    df['longitude'] = df['geometry'].centroid.x\n",
        "    return df"
      ],
      "metadata": {
        "id": "kzRnTnpO522Z"
      },
      "execution_count": null,
      "outputs": []
    }
  ]
}