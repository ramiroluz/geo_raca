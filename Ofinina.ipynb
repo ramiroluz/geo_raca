{
  "nbformat": 4,
  "nbformat_minor": 0,
  "metadata": {
    "colab": {
      "provenance": []
    },
    "kernelspec": {
      "name": "python3",
      "display_name": "Python 3"
    },
    "language_info": {
      "name": "python"
    }
  },
  "cells": [
    {
      "cell_type": "code",
      "execution_count": 2,
      "metadata": {
        "colab": {
          "base_uri": "https://localhost:8080/"
        },
        "id": "95gSNHm2wPpb",
        "outputId": "bab19117-f488-43de-e5bc-900960a610d8"
      },
      "outputs": [
        {
          "output_type": "stream",
          "name": "stdout",
          "text": [
            "Mounted at /content/drive\n"
          ]
        }
      ],
      "source": [
        "# prompt: from colab import and mount drive\n",
        "\n",
        "from google.colab import drive\n",
        "drive.mount('/content/drive')"
      ]
    },
    {
      "cell_type": "code",
      "source": [
        "%cd '/content/drive/MyDrive/Colab Notebooks/oficina_racismo_ambiental/dados/'"
      ],
      "metadata": {
        "colab": {
          "base_uri": "https://localhost:8080/"
        },
        "id": "pe1k-Q2U1Sxq",
        "outputId": "13769a24-e877-4a4a-8130-c69158b776c2"
      },
      "execution_count": 12,
      "outputs": [
        {
          "output_type": "stream",
          "name": "stdout",
          "text": [
            "/content/drive/MyDrive/Colab Notebooks/oficina_racismo_ambiental/dados\n"
          ]
        }
      ]
    },
    {
      "cell_type": "code",
      "source": [
        "import os\n",
        "print(os.getcwd())"
      ],
      "metadata": {
        "colab": {
          "base_uri": "https://localhost:8080/"
        },
        "id": "KSMX683G1sdq",
        "outputId": "8b32cd54-63ea-4ea3-851e-8b25fccb3af4"
      },
      "execution_count": 14,
      "outputs": [
        {
          "output_type": "stream",
          "name": "stdout",
          "text": [
            "/content/drive/MyDrive/Colab Notebooks/oficina_racismo_ambiental/dados\n"
          ]
        }
      ]
    },
    {
      "cell_type": "code",
      "source": [
        "!ls\n"
      ],
      "metadata": {
        "colab": {
          "base_uri": "https://localhost:8080/"
        },
        "id": "l-TTzLXq1yzC",
        "outputId": "d1e0fcef-aa02-46a0-e87f-5de0357a9cc6"
      },
      "execution_count": 15,
      "outputs": [
        {
          "output_type": "stream",
          "name": "stdout",
          "text": [
            "CodigosMuniRJ.csv\n"
          ]
        }
      ]
    },
    {
      "cell_type": "code",
      "source": [
        "# Importando as bibliotecas necessárias\n",
        "import pandas as pd\n",
        "import numpy as np\n",
        "import matplotlib.pyplot as plt\n",
        "import seaborn as sns\n",
        "import folium\n",
        "import plotly.express as px\n",
        "import geopandas as gpd\n",
        "from folium.plugins import HeatMap"
      ],
      "metadata": {
        "id": "SSIabMS714kS"
      },
      "execution_count": 16,
      "outputs": []
    },
    {
      "cell_type": "code",
      "source": [
        "# Configurações globais para visualização\n",
        "pd.options.display.float_format = '{:.2f}'.format\n",
        "pd.set_option('display.max_columns', None)\n",
        "plt.style.use(\"ggplot\")"
      ],
      "metadata": {
        "id": "NJXeNyzy1-QA"
      },
      "execution_count": 17,
      "outputs": []
    },
    {
      "cell_type": "code",
      "source": [
        "# Configurações globais\n",
        "crs = {'proj': 'latlong', 'ellps': 'WGS84', 'datum': 'WGS84'}\n",
        "pd.set_option('display.float_format', '{:.2f}'.format)\n",
        "plt.style.use(\"ggplot\")"
      ],
      "metadata": {
        "id": "gewqxCR_2C4Y"
      },
      "execution_count": 18,
      "outputs": []
    },
    {
      "cell_type": "code",
      "source": [
        "# Funções Utilitárias\n",
        "\n",
        "def carregar_dados(caminho_populacao, caminho_codigos):\n",
        "    \"\"\"Carrega os dados de população e códigos de municípios, realizando o tratamento inicial.\"\"\"\n",
        "    # Carregar os dados de população\n",
        "    populacao = pd.read_excel(caminho_populacao)\n",
        "    # Carregar os códigos dos municípios\n",
        "    codigos = pd.read_csv(caminho_codigos).drop(columns=['Unnamed: 0'], errors='ignore')\n",
        "    # Unir os dados com base no código IBGE\n",
        "    dados = pd.merge(codigos, populacao, how='left', on='COD_IBGE')\n",
        "    dados.info()  # Exibir informações básicas dos dados\n",
        "    return dados\n",
        "\n",
        "def calcular_populacao_negra(df):\n",
        "    \"\"\"Calcula a população negra total e percentual, somando as populações Preta e Parda.\"\"\"\n",
        "    df['NEGRA'] = df['PRETA'] + df['PARDA']\n",
        "    df['NEGRA%'] = (df['NEGRA'] / df['TOTAL']) * 100\n",
        "    return df\n",
        "\n",
        "def ajustar_populacao(df, coluna):\n",
        "    \"\"\"Ajusta a população total para evitar duplicação de dados.\"\"\"\n",
        "    df[coluna] = df[coluna] // 2\n",
        "    return df\n",
        "\n",
        "def categorizar_percentual(df, coluna, percentis):\n",
        "    \"\"\"Classifica os municípios em faixas de percentuais com base nos percentis fornecidos.\"\"\"\n",
        "    categorias = pd.cut(\n",
        "        df[coluna],\n",
        "        bins=[0] + list(percentis) + [100],\n",
        "        labels=[\n",
        "            'Menor que 35%', '35% a 39%', '40% a 44%', '45% a 49%',\n",
        "            '50% a 54%', '55% a 59%', '60% a 64%', '65% a 69%',\n",
        "            '70% a 75%', 'Maior que 75%'\n",
        "        ]\n",
        "    )\n",
        "    df['FAIXA_PERCENTUAL_NEGROS'] = categorias\n",
        "    return df\n",
        "\n",
        "def criar_mapa_choropleth(df, coluna_percentual, legenda, localizacao=[-22, -43], zoom_inicial=8):\n",
        "    \"\"\"Cria um mapa choropleth para visualização geoespacial dos dados.\"\"\"\n",
        "    mapa = folium.Map(location=localizacao, zoom_start=zoom_inicial)\n",
        "    folium.Choropleth(\n",
        "        geo_data='https://raw.githubusercontent.com/tbrugz/geodata-br/master/geojson/geojs-33-mun.json',\n",
        "        name='choropleth',\n",
        "        data=df,\n",
        "        columns=['id', coluna_percentual],\n",
        "        key_on='properties.id',\n",
        "        fill_color='YlOrBr',\n",
        "        fill_opacity=0.7,\n",
        "        line_opacity=0.5,\n",
        "        legend_name=legenda\n",
        "    ).add_to(mapa)\n",
        "    return mapa\n",
        "\n",
        "def exportar_dados(df, caminho_saida):\n",
        "    \"\"\"Exporta os dados para um arquivo Excel, ordenados pelo percentual de população negra.\"\"\"\n",
        "    df_ordenado = df.sort_values(by='NEGRA%', ascending=False)\n",
        "    df_ordenado.to_excel(caminho_saida, index=False)\n",
        "    print(f\"Dados exportados para: {caminho_saida}\")"
      ],
      "metadata": {
        "id": "DL0gVnuo2LKf"
      },
      "execution_count": 19,
      "outputs": []
    },
    {
      "cell_type": "code",
      "source": [
        "# Definindo os caminhos dos arquivos\n",
        "caminho_das_bases = '/content/drive/MyDrive/Colab Notebooks/oficina_racismo_ambiental/dados/RacismoAmbiental/'\n",
        "caminho_populacao = caminho_das_bases + '/Pop_Raca_MUNI_RJ_2022.xlsx'\n",
        "caminho_codigos = caminho_das_bases + '/CodigosMuniRJ.csv'\n",
        "caminho_saida = caminho_das_bases + '/NegrosMunicipios.xlsx'"
      ],
      "metadata": {
        "id": "SLtW1Cdn2TYo"
      },
      "execution_count": 23,
      "outputs": []
    },
    {
      "cell_type": "code",
      "source": [
        "# Carregar e tratar os dados\n",
        "dados = carregar_dados(caminho_populacao, caminho_codigos)\n",
        "dados = calcular_populacao_negra(dados)\n",
        "#dados = ajustar_populacao(dados, 'POP_TOTAL')\n",
        "dados = ajustar_populacao(dados, 'TOTAL')"
      ],
      "metadata": {
        "colab": {
          "base_uri": "https://localhost:8080/"
        },
        "id": "a2gGGRgA2n-O",
        "outputId": "73092cb5-17a1-40dd-f672-e62fd8e41102"
      },
      "execution_count": 25,
      "outputs": [
        {
          "output_type": "stream",
          "name": "stdout",
          "text": [
            "<class 'pandas.core.frame.DataFrame'>\n",
            "RangeIndex: 93 entries, 0 to 92\n",
            "Data columns (total 21 columns):\n",
            " #   Column        Non-Null Count  Dtype  \n",
            "---  ------        --------------  -----  \n",
            " 0   Unnamed: 0.3  93 non-null     int64  \n",
            " 1   Unnamed: 0.2  93 non-null     int64  \n",
            " 2   Unnamed: 0.1  93 non-null     int64  \n",
            " 3   CD_MESO       93 non-null     int64  \n",
            " 4   NM_MESO       93 non-null     object \n",
            " 5   COD_IBGE      93 non-null     int64  \n",
            " 6   municipio     93 non-null     object \n",
            " 7   id            93 non-null     int64  \n",
            " 8   MUNICIPIO     93 non-null     object \n",
            " 9   TOTAL         93 non-null     int64  \n",
            " 10  BRANCA        93 non-null     int64  \n",
            " 11  PRETA         93 non-null     int64  \n",
            " 12  AMARELA       93 non-null     int64  \n",
            " 13  PARDA         93 non-null     int64  \n",
            " 14  INDIGENA      93 non-null     int64  \n",
            " 15  IGNORADOS     93 non-null     int64  \n",
            " 16  BRANCA%       93 non-null     float64\n",
            " 17  PRETA%        93 non-null     float64\n",
            " 18  AMARELA%      93 non-null     float64\n",
            " 19  PARDA%        93 non-null     float64\n",
            " 20  INDIGENA%     93 non-null     float64\n",
            "dtypes: float64(5), int64(13), object(3)\n",
            "memory usage: 15.4+ KB\n"
          ]
        }
      ]
    },
    {
      "cell_type": "code",
      "source": [
        "# Calcular percentis e categorizar\n",
        "# percentis_calculados = np.percentile(dados['NEGRA%'], [33, 35, 40, 45, 50, 55, 60, 65, 70, 75])\n",
        "percentis_calculados = np.percentile(dados['NEGRA%'], [35, 40, 45, 50, 55, 60, 65, 70, 75])\n",
        "dados = categorizar_percentual(dados, 'NEGRA%', percentis_calculados)"
      ],
      "metadata": {
        "id": "cFO_8KMx2sQw"
      },
      "execution_count": 27,
      "outputs": []
    },
    {
      "cell_type": "code",
      "source": [
        "# Exportar dados ordenados por percentual de população negra\n",
        "exportar_dados(dados, caminho_saida)\n"
      ],
      "metadata": {
        "colab": {
          "base_uri": "https://localhost:8080/"
        },
        "id": "W1nRSQZX2vif",
        "outputId": "757adca5-1fe7-4f1f-f1f5-84eaa1743461"
      },
      "execution_count": 28,
      "outputs": [
        {
          "output_type": "stream",
          "name": "stdout",
          "text": [
            "Dados exportados para: /content/drive/MyDrive/Colab Notebooks/oficina_racismo_ambiental/dados/RacismoAmbiental//NegrosMunicipios.xlsx\n"
          ]
        }
      ]
    },
    {
      "cell_type": "code",
      "source": [
        "# Visualização da distribuição da população negra com Matplotlib e Seaborn\n",
        "plt.figure(figsize=(10, 6))\n",
        "sns.histplot(dados['NEGRA%'], bins=20, kde=True)\n",
        "plt.title('Distribuição da População Negra (%) por Município')\n",
        "plt.xlabel('Percentual de População Negra')\n",
        "plt.ylabel('Frequência')\n",
        "plt.show()"
      ],
      "metadata": {
        "colab": {
          "base_uri": "https://localhost:8080/",
          "height": 570
        },
        "id": "SrJjrHJs5f5F",
        "outputId": "55a28975-a3fb-46d8-bfc2-ed8a4c3e8a34"
      },
      "execution_count": 29,
      "outputs": [
        {
          "output_type": "display_data",
          "data": {
            "text/plain": [
              "<Figure size 1000x600 with 1 Axes>"
            ],
            "image/png": "[encoded data removed]"
          },
          "metadata": {}
        }
      ]
    },
    {
      "cell_type": "code",
      "source": [
        "# Carregar os dados de esgotamento sanitário\n",
        "caminho_esgoto = caminho_das_bases + '/Esgotamento_Sanitario_Raca_RJ.xlsx'\n",
        "df_esgoto = pd.read_excel(caminho_esgoto)\n",
        "df_esgoto.rename(columns={'CD_MUN': 'id'}, inplace=True)"
      ],
      "metadata": {
        "id": "0EuHvvi_5jfM"
      },
      "execution_count": 49,
      "outputs": []
    },
    {
      "cell_type": "code",
      "source": [
        "# Tratar os dados de esgotamento sanitário\n",
        "df_esgoto = ajustar_populacao(df_esgoto, 'Pop_Total_Muni')\n"
      ],
      "metadata": {
        "id": "RitywhlG5ntE"
      },
      "execution_count": 50,
      "outputs": []
    },
    {
      "cell_type": "code",
      "source": [
        "dados.columns"
      ],
      "metadata": {
        "colab": {
          "base_uri": "https://localhost:8080/"
        },
        "id": "D2ghKlwnCOxd",
        "outputId": "eab765d5-3de4-45c4-9ad7-8ecbbf5e207d"
      },
      "execution_count": 51,
      "outputs": [
        {
          "output_type": "execute_result",
          "data": {
            "text/plain": [
              "Index(['Unnamed: 0.3', 'Unnamed: 0.2', 'Unnamed: 0.1', 'CD_MESO', 'NM_MESO',\n",
              "       'COD_IBGE', 'municipio', 'id', 'MUNICIPIO', 'TOTAL', 'BRANCA', 'PRETA',\n",
              "       'AMARELA', 'PARDA', 'INDIGENA', 'IGNORADOS', 'BRANCA%', 'PRETA%',\n",
              "       'AMARELA%', 'PARDA%', 'INDIGENA%', 'NEGRA', 'NEGRA%',\n",
              "       'FAIXA_PERCENTUAL_NEGROS'],\n",
              "      dtype='object')"
            ]
          },
          "metadata": {},
          "execution_count": 51
        }
      ]
    },
    {
      "cell_type": "code",
      "source": [
        "df_esgoto.merge(dados, left_on='id', right_on='id', how='inner')\n",
        "df_esgoto[df_esgoto['Cor ou raça'] == 'Branca']\n",
        "df_esgoto['Cor ou raça'] = df_esgoto['Cor ou raça'].replace('Preta', 'Negra')\n",
        "df_esgoto['Cor ou raça'] = df_esgoto['Cor ou raça'].replace('Parda', 'Negra')"
      ],
      "metadata": {
        "id": "kE1Iyee_B_Ge"
      },
      "execution_count": 56,
      "outputs": []
    },
    {
      "cell_type": "code",
      "source": [
        "df_esgoto.head()\n"
      ],
      "metadata": {
        "colab": {
          "base_uri": "https://localhost:8080/",
          "height": 435
        },
        "id": "ONFxc9BrBAQP",
        "outputId": "728689c2-7775-4bad-8955-f0866c229c51"
      },
      "execution_count": 57,
      "outputs": [
        {
          "output_type": "execute_result",
          "data": {
            "text/plain": [
              "   CD_MESO         NM_MESO           MUNICIPIO       id  Pop_Total_Muni  \\\n",
              "0     3305  Sul Fluminense  Angra dos Reis(RJ)  3300100           83717   \n",
              "1     3305  Sul Fluminense  Angra dos Reis(RJ)  3300100           83717   \n",
              "2     3305  Sul Fluminense  Angra dos Reis(RJ)  3300100           83717   \n",
              "3     3305  Sul Fluminense  Angra dos Reis(RJ)  3300100           83717   \n",
              "4     3305  Sul Fluminense  Angra dos Reis(RJ)  3300100           83717   \n",
              "\n",
              "  Cor ou raça  Total  Rede geral, rede pluvial ou fossa ligada à rede  \\\n",
              "0      Branca  75099                                            54540   \n",
              "1       Negra  18808                                            12826   \n",
              "2     Amarela    329                                              232   \n",
              "3       Negra  72461                                            49247   \n",
              "4    Indígena    541                                              135   \n",
              "\n",
              "   Rede geral ou pluvial  Fossa séptica ou fossa filtro ligada à rede  \\\n",
              "0                  46423                                         8117   \n",
              "1                  11013                                         1813   \n",
              "2                    209                                           23   \n",
              "3                  41933                                         7314   \n",
              "4                    107                                           28   \n",
              "\n",
              "   Fossa séptica ou fossa filtro não ligada à rede  \\\n",
              "0                                            10489   \n",
              "1                                             2686   \n",
              "2                                               73   \n",
              "3                                            11430   \n",
              "4                                               42   \n",
              "\n",
              "   Fossa rudimentar ou buraco  Vala  Rio, lago, córrego ou mar  Outra forma  \\\n",
              "0                        5306  3746                        746          264   \n",
              "1                        1873  1190                        163           64   \n",
              "2                          21     0                          1            2   \n",
              "3                        6635  4194                        736          198   \n",
              "4                         349    12                          1            2   \n",
              "\n",
              "   Não tinham banheiro nem sanitário  \\\n",
              "0                                  8   \n",
              "1                                  6   \n",
              "2                                  0   \n",
              "3                                 21   \n",
              "4                                  0   \n",
              "\n",
              "   Rede geral, rede pluvial ou fossa ligada à rede%  Rede geral ou pluvial%  \\\n",
              "0                                             32.61                   27.76   \n",
              "1                                              7.67                    6.59   \n",
              "2                                              0.14                    0.12   \n",
              "3                                             29.45                   25.07   \n",
              "4                                              0.08                    0.06   \n",
              "\n",
              "   Fossa séptica ou fossa filtro ligada à rede%  \\\n",
              "0                                          4.85   \n",
              "1                                          1.08   \n",
              "2                                          0.01   \n",
              "3                                          4.37   \n",
              "4                                          0.02   \n",
              "\n",
              "   Fossa séptica ou fossa filtro não ligada à rede%  \\\n",
              "0                                              6.27   \n",
              "1                                              1.61   \n",
              "2                                              0.04   \n",
              "3                                              6.83   \n",
              "4                                              0.03   \n",
              "\n",
              "   Fossa rudimentar ou buraco%  Vala%  Rio, lago, córrego ou mar%  \\\n",
              "0                         3.17   2.24                        0.45   \n",
              "1                         1.12   0.71                        0.10   \n",
              "2                         0.01   0.00                        0.00   \n",
              "3                         3.97   2.51                        0.44   \n",
              "4                         0.21   0.01                        0.00   \n",
              "\n",
              "   Outra forma%  Não tinham banheiro nem sanitário%  \n",
              "0          0.16                                0.00  \n",
              "1          0.04                                0.00  \n",
              "2          0.00                                0.00  \n",
              "3          0.12                                0.01  \n",
              "4          0.00                                0.00  "
            ],
            "text/html": [
              "\n",
              "  <div id=\"df-2daa784c-3732-4fe8-a53c-b13d149cebf3\" class=\"colab-df-container\">\n",
              "    <div>\n",
              "<style scoped>\n",
              "    .dataframe tbody tr th:only-of-type {\n",
              "        vertical-align: middle;\n",
              "    }\n",
              "\n",
              "    .dataframe tbody tr th {\n",
              "        vertical-align: top;\n",
              "    }\n",
              "\n",
              "    .dataframe thead th {\n",
              "        text-align: right;\n",
              "    }\n",
              "</style>\n",
              "<table border=\"1\" class=\"dataframe\">\n",
              "  <thead>\n",
              "    <tr style=\"text-align: right;\">\n",
              "      <th></th>\n",
              "      <th>CD_MESO</th>\n",
              "      <th>NM_MESO</th>\n",
              "      <th>MUNICIPIO</th>\n",
              "      <th>id</th>\n",
              "      <th>Pop_Total_Muni</th>\n",
              "      <th>Cor ou raça</th>\n",
              "      <th>Total</th>\n",
              "      <th>Rede geral, rede pluvial ou fossa ligada à rede</th>\n",
              "      <th>Rede geral ou pluvial</th>\n",
              "      <th>Fossa séptica ou fossa filtro ligada à rede</th>\n",
              "      <th>Fossa séptica ou fossa filtro não ligada à rede</th>\n",
              "      <th>Fossa rudimentar ou buraco</th>\n",
              "      <th>Vala</th>\n",
              "      <th>Rio, lago, córrego ou mar</th>\n",
              "      <th>Outra forma</th>\n",
              "      <th>Não tinham banheiro nem sanitário</th>\n",
              "      <th>Rede geral, rede pluvial ou fossa ligada à rede%</th>\n",
              "      <th>Rede geral ou pluvial%</th>\n",
              "      <th>Fossa séptica ou fossa filtro ligada à rede%</th>\n",
              "      <th>Fossa séptica ou fossa filtro não ligada à rede%</th>\n",
              "      <th>Fossa rudimentar ou buraco%</th>\n",
              "      <th>Vala%</th>\n",
              "      <th>Rio, lago, córrego ou mar%</th>\n",
              "      <th>Outra forma%</th>\n",
              "      <th>Não tinham banheiro nem sanitário%</th>\n",
              "    </tr>\n",
              "  </thead>\n",
              "  <tbody>\n",
              "    <tr>\n",
              "      <th>0</th>\n",
              "      <td>3305</td>\n",
              "      <td>Sul Fluminense</td>\n",
              "      <td>Angra dos Reis(RJ)</td>\n",
              "      <td>3300100</td>\n",
              "      <td>83717</td>\n",
              "      <td>Branca</td>\n",
              "      <td>75099</td>\n",
              "      <td>54540</td>\n",
              "      <td>46423</td>\n",
              "      <td>8117</td>\n",
              "      <td>10489</td>\n",
              "      <td>5306</td>\n",
              "      <td>3746</td>\n",
              "      <td>746</td>\n",
              "      <td>264</td>\n",
              "      <td>8</td>\n",
              "      <td>32.61</td>\n",
              "      <td>27.76</td>\n",
              "      <td>4.85</td>\n",
              "      <td>6.27</td>\n",
              "      <td>3.17</td>\n",
              "      <td>2.24</td>\n",
              "      <td>0.45</td>\n",
              "      <td>0.16</td>\n",
              "      <td>0.00</td>\n",
              "    </tr>\n",
              "    <tr>\n",
              "      <th>1</th>\n",
              "      <td>3305</td>\n",
              "      <td>Sul Fluminense</td>\n",
              "      <td>Angra dos Reis(RJ)</td>\n",
              "      <td>3300100</td>\n",
              "      <td>83717</td>\n",
              "      <td>Negra</td>\n",
              "      <td>18808</td>\n",
              "      <td>12826</td>\n",
              "      <td>11013</td>\n",
              "      <td>1813</td>\n",
              "      <td>2686</td>\n",
              "      <td>1873</td>\n",
              "      <td>1190</td>\n",
              "      <td>163</td>\n",
              "      <td>64</td>\n",
              "      <td>6</td>\n",
              "      <td>7.67</td>\n",
              "      <td>6.59</td>\n",
              "      <td>1.08</td>\n",
              "      <td>1.61</td>\n",
              "      <td>1.12</td>\n",
              "      <td>0.71</td>\n",
              "      <td>0.10</td>\n",
              "      <td>0.04</td>\n",
              "      <td>0.00</td>\n",
              "    </tr>\n",
              "    <tr>\n",
              "      <th>2</th>\n",
              "      <td>3305</td>\n",
              "      <td>Sul Fluminense</td>\n",
              "      <td>Angra dos Reis(RJ)</td>\n",
              "      <td>3300100</td>\n",
              "      <td>83717</td>\n",
              "      <td>Amarela</td>\n",
              "      <td>329</td>\n",
              "      <td>232</td>\n",
              "      <td>209</td>\n",
              "      <td>23</td>\n",
              "      <td>73</td>\n",
              "      <td>21</td>\n",
              "      <td>0</td>\n",
              "      <td>1</td>\n",
              "      <td>2</td>\n",
              "      <td>0</td>\n",
              "      <td>0.14</td>\n",
              "      <td>0.12</td>\n",
              "      <td>0.01</td>\n",
              "      <td>0.04</td>\n",
              "      <td>0.01</td>\n",
              "      <td>0.00</td>\n",
              "      <td>0.00</td>\n",
              "      <td>0.00</td>\n",
              "      <td>0.00</td>\n",
              "    </tr>\n",
              "    <tr>\n",
              "      <th>3</th>\n",
              "      <td>3305</td>\n",
              "      <td>Sul Fluminense</td>\n",
              "      <td>Angra dos Reis(RJ)</td>\n",
              "      <td>3300100</td>\n",
              "      <td>83717</td>\n",
              "      <td>Negra</td>\n",
              "      <td>72461</td>\n",
              "      <td>49247</td>\n",
              "      <td>41933</td>\n",
              "      <td>7314</td>\n",
              "      <td>11430</td>\n",
              "      <td>6635</td>\n",
              "      <td>4194</td>\n",
              "      <td>736</td>\n",
              "      <td>198</td>\n",
              "      <td>21</td>\n",
              "      <td>29.45</td>\n",
              "      <td>25.07</td>\n",
              "      <td>4.37</td>\n",
              "      <td>6.83</td>\n",
              "      <td>3.97</td>\n",
              "      <td>2.51</td>\n",
              "      <td>0.44</td>\n",
              "      <td>0.12</td>\n",
              "      <td>0.01</td>\n",
              "    </tr>\n",
              "    <tr>\n",
              "      <th>4</th>\n",
              "      <td>3305</td>\n",
              "      <td>Sul Fluminense</td>\n",
              "      <td>Angra dos Reis(RJ)</td>\n",
              "      <td>3300100</td>\n",
              "      <td>83717</td>\n",
              "      <td>Indígena</td>\n",
              "      <td>541</td>\n",
              "      <td>135</td>\n",
              "      <td>107</td>\n",
              "      <td>28</td>\n",
              "      <td>42</td>\n",
              "      <td>349</td>\n",
              "      <td>12</td>\n",
              "      <td>1</td>\n",
              "      <td>2</td>\n",
              "      <td>0</td>\n",
              "      <td>0.08</td>\n",
              "      <td>0.06</td>\n",
              "      <td>0.02</td>\n",
              "      <td>0.03</td>\n",
              "      <td>0.21</td>\n",
              "      <td>0.01</td>\n",
              "      <td>0.00</td>\n",
              "      <td>0.00</td>\n",
              "      <td>0.00</td>\n",
              "    </tr>\n",
              "  </tbody>\n",
              "</table>\n",
              "</div>\n",
              "    <div class=\"colab-df-buttons\">\n",
              "\n",
              "  <div class=\"colab-df-container\">\n",
              "    <button class=\"colab-df-convert\" onclick=\"convertToInteractive('df-2daa784c-3732-4fe8-a53c-b13d149cebf3')\"\n",
              "            title=\"Convert this dataframe to an interactive table.\"\n",
              "            style=\"display:none;\">\n",
              "\n",
              "  <svg xmlns=\"http://www.w3.org/2000/svg\" height=\"24px\" viewBox=\"0 -960 960 960\">\n",
              "    <path d=\"M120-120v-720h720v720H120Zm60-500h600v-160H180v160Zm220 220h160v-160H400v160Zm0 220h160v-160H400v160ZM180-400h160v-160H180v160Zm440 0h160v-160H620v160ZM180-180h160v-160H180v160Zm440 0h160v-160H620v160Z\"/>\n",
              "  </svg>\n",
              "    </button>\n",
              "\n",
              "  <style>\n",
              "    .colab-df-container {\n",
              "      display:flex;\n",
              "      gap: 12px;\n",
              "    }\n",
              "\n",
              "    .colab-df-convert {\n",
              "      background-color: #E8F0FE;\n",
              "      border: none;\n",
              "      border-radius: 50%;\n",
              "      cursor: pointer;\n",
              "      display: none;\n",
              "      fill: #1967D2;\n",
              "      height: 32px;\n",
              "      padding: 0 0 0 0;\n",
              "      width: 32px;\n",
              "    }\n",
              "\n",
              "    .colab-df-convert:hover {\n",
              "      background-color: #E2EBFA;\n",
              "      box-shadow: 0px 1px 2px rgba(60, 64, 67, 0.3), 0px 1px 3px 1px rgba(60, 64, 67, 0.15);\n",
              "      fill: #174EA6;\n",
              "    }\n",
              "\n",
              "    .colab-df-buttons div {\n",
              "      margin-bottom: 4px;\n",
              "    }\n",
              "\n",
              "    [theme=dark] .colab-df-convert {\n",
              "      background-color: #3B4455;\n",
              "      fill: #D2E3FC;\n",
              "    }\n",
              "\n",
              "    [theme=dark] .colab-df-convert:hover {\n",
              "      background-color: #434B5C;\n",
              "      box-shadow: 0px 1px 3px 1px rgba(0, 0, 0, 0.15);\n",
              "      filter: drop-shadow(0px 1px 2px rgba(0, 0, 0, 0.3));\n",
              "      fill: #FFFFFF;\n",
              "    }\n",
              "  </style>\n",
              "\n",
              "    <script>\n",
              "      const buttonEl =\n",
              "        document.querySelector('#df-2daa784c-3732-4fe8-a53c-b13d149cebf3 button.colab-df-convert');\n",
              "      buttonEl.style.display =\n",
              "        google.colab.kernel.accessAllowed ? 'block' : 'none';\n",
              "\n",
              "      async function convertToInteractive(key) {\n",
              "        const element = document.querySelector('#df-2daa784c-3732-4fe8-a53c-b13d149cebf3');\n",
              "        const dataTable =\n",
              "          await google.colab.kernel.invokeFunction('convertToInteractive',\n",
              "                                                    [key], {});\n",
              "        if (!dataTable) return;\n",
              "\n",
              "        const docLinkHtml = 'Like what you see? Visit the ' +\n",
              "          '<a target=\"_blank\" href=https://colab.research.google.com/notebooks/data_table.ipynb>data table notebook</a>'\n",
              "          + ' to learn more about interactive tables.';\n",
              "        element.innerHTML = '';\n",
              "        dataTable['output_type'] = 'display_data';\n",
              "        await google.colab.output.renderOutput(dataTable, element);\n",
              "        const docLink = document.createElement('div');\n",
              "        docLink.innerHTML = docLinkHtml;\n",
              "        element.appendChild(docLink);\n",
              "      }\n",
              "    </script>\n",
              "  </div>\n",
              "\n",
              "\n",
              "<div id=\"df-3e87c502-da39-481b-9b5d-4e7dd3e22946\">\n",
              "  <button class=\"colab-df-quickchart\" onclick=\"quickchart('df-3e87c502-da39-481b-9b5d-4e7dd3e22946')\"\n",
              "            title=\"Suggest charts\"\n",
              "            style=\"display:none;\">\n",
              "\n",
              "<svg xmlns=\"http://www.w3.org/2000/svg\" height=\"24px\"viewBox=\"0 0 24 24\"\n",
              "     width=\"24px\">\n",
              "    <g>\n",
              "        <path d=\"M19 3H5c-1.1 0-2 .9-2 2v14c0 1.1.9 2 2 2h14c1.1 0 2-.9 2-2V5c0-1.1-.9-2-2-2zM9 17H7v-7h2v7zm4 0h-2V7h2v10zm4 0h-2v-4h2v4z\"/>\n",
              "    </g>\n",
              "</svg>\n",
              "  </button>\n",
              "\n",
              "<style>\n",
              "  .colab-df-quickchart {\n",
              "      --bg-color: #E8F0FE;\n",
              "      --fill-color: #1967D2;\n",
              "      --hover-bg-color: #E2EBFA;\n",
              "      --hover-fill-color: #174EA6;\n",
              "      --disabled-fill-color: #AAA;\n",
              "      --disabled-bg-color: #DDD;\n",
              "  }\n",
              "\n",
              "  [theme=dark] .colab-df-quickchart {\n",
              "      --bg-color: #3B4455;\n",
              "      --fill-color: #D2E3FC;\n",
              "      --hover-bg-color: #434B5C;\n",
              "      --hover-fill-color: #FFFFFF;\n",
              "      --disabled-bg-color: #3B4455;\n",
              "      --disabled-fill-color: #666;\n",
              "  }\n",
              "\n",
              "  .colab-df-quickchart {\n",
              "    background-color: var(--bg-color);\n",
              "    border: none;\n",
              "    border-radius: 50%;\n",
              "    cursor: pointer;\n",
              "    display: none;\n",
              "    fill: var(--fill-color);\n",
              "    height: 32px;\n",
              "    padding: 0;\n",
              "    width: 32px;\n",
              "  }\n",
              "\n",
              "  .colab-df-quickchart:hover {\n",
              "    background-color: var(--hover-bg-color);\n",
              "    box-shadow: 0 1px 2px rgba(60, 64, 67, 0.3), 0 1px 3px 1px rgba(60, 64, 67, 0.15);\n",
              "    fill: var(--button-hover-fill-color);\n",
              "  }\n",
              "\n",
              "  .colab-df-quickchart-complete:disabled,\n",
              "  .colab-df-quickchart-complete:disabled:hover {\n",
              "    background-color: var(--disabled-bg-color);\n",
              "    fill: var(--disabled-fill-color);\n",
              "    box-shadow: none;\n",
              "  }\n",
              "\n",
              "  .colab-df-spinner {\n",
              "    border: 2px solid var(--fill-color);\n",
              "    border-color: transparent;\n",
              "    border-bottom-color: var(--fill-color);\n",
              "    animation:\n",
              "      spin 1s steps(1) infinite;\n",
              "  }\n",
              "\n",
              "  @keyframes spin {\n",
              "    0% {\n",
              "      border-color: transparent;\n",
              "      border-bottom-color: var(--fill-color);\n",
              "      border-left-color: var(--fill-color);\n",
              "    }\n",
              "    20% {\n",
              "      border-color: transparent;\n",
              "      border-left-color: var(--fill-color);\n",
              "      border-top-color: var(--fill-color);\n",
              "    }\n",
              "    30% {\n",
              "      border-color: transparent;\n",
              "      border-left-color: var(--fill-color);\n",
              "      border-top-color: var(--fill-color);\n",
              "      border-right-color: var(--fill-color);\n",
              "    }\n",
              "    40% {\n",
              "      border-color: transparent;\n",
              "      border-right-color: var(--fill-color);\n",
              "      border-top-color: var(--fill-color);\n",
              "    }\n",
              "    60% {\n",
              "      border-color: transparent;\n",
              "      border-right-color: var(--fill-color);\n",
              "    }\n",
              "    80% {\n",
              "      border-color: transparent;\n",
              "      border-right-color: var(--fill-color);\n",
              "      border-bottom-color: var(--fill-color);\n",
              "    }\n",
              "    90% {\n",
              "      border-color: transparent;\n",
              "      border-bottom-color: var(--fill-color);\n",
              "    }\n",
              "  }\n",
              "</style>\n",
              "\n",
              "  <script>\n",
              "    async function quickchart(key) {\n",
              "      const quickchartButtonEl =\n",
              "        document.querySelector('#' + key + ' button');\n",
              "      quickchartButtonEl.disabled = true;  // To prevent multiple clicks.\n",
              "      quickchartButtonEl.classList.add('colab-df-spinner');\n",
              "      try {\n",
              "        const charts = await google.colab.kernel.invokeFunction(\n",
              "            'suggestCharts', [key], {});\n",
              "      } catch (error) {\n",
              "        console.error('Error during call to suggestCharts:', error);\n",
              "      }\n",
              "      quickchartButtonEl.classList.remove('colab-df-spinner');\n",
              "      quickchartButtonEl.classList.add('colab-df-quickchart-complete');\n",
              "    }\n",
              "    (() => {\n",
              "      let quickchartButtonEl =\n",
              "        document.querySelector('#df-3e87c502-da39-481b-9b5d-4e7dd3e22946 button');\n",
              "      quickchartButtonEl.style.display =\n",
              "        google.colab.kernel.accessAllowed ? 'block' : 'none';\n",
              "    })();\n",
              "  </script>\n",
              "</div>\n",
              "\n",
              "    </div>\n",
              "  </div>\n"
            ],
            "application/vnd.google.colaboratory.intrinsic+json": {
              "type": "dataframe",
              "variable_name": "df_esgoto"
            }
          },
          "metadata": {},
          "execution_count": 57
        }
      ]
    },
    {
      "cell_type": "code",
      "source": [
        "df_esgoto.columns"
      ],
      "metadata": {
        "colab": {
          "base_uri": "https://localhost:8080/"
        },
        "id": "_kiPH3QfBkef",
        "outputId": "005132bf-2477-4afa-8a19-50c99c2b3b99"
      },
      "execution_count": 58,
      "outputs": [
        {
          "output_type": "execute_result",
          "data": {
            "text/plain": [
              "Index(['CD_MESO', 'NM_MESO', 'MUNICIPIO', 'id', 'Pop_Total_Muni',\n",
              "       'Cor ou raça', 'Total',\n",
              "       'Rede geral, rede pluvial ou fossa ligada à rede',\n",
              "       'Rede geral ou pluvial', 'Fossa séptica ou fossa filtro ligada à rede',\n",
              "       'Fossa séptica ou fossa filtro não ligada à rede',\n",
              "       'Fossa rudimentar ou buraco', 'Vala', 'Rio, lago, córrego ou mar',\n",
              "       'Outra forma', 'Não tinham banheiro nem sanitário',\n",
              "       'Rede geral, rede pluvial ou fossa ligada à rede%',\n",
              "       'Rede geral ou pluvial%',\n",
              "       'Fossa séptica ou fossa filtro ligada à rede%',\n",
              "       'Fossa séptica ou fossa filtro não ligada à rede%',\n",
              "       'Fossa rudimentar ou buraco%', 'Vala%', 'Rio, lago, córrego ou mar%',\n",
              "       'Outra forma%', 'Não tinham banheiro nem sanitário%'],\n",
              "      dtype='object')"
            ]
          },
          "metadata": {},
          "execution_count": 58
        }
      ]
    },
    {
      "cell_type": "code",
      "source": [
        "# Visualização interativa com Plotly para esgotamento sanitário\n",
        "fig = px.histogram(df_esgoto, x='Negra%', title='Distribuição de Esgotamento Sanitário por Raça')\n",
        "fig.show()"
      ],
      "metadata": {
        "colab": {
          "base_uri": "https://localhost:8080/",
          "height": 383
        },
        "id": "devjcW355q07",
        "outputId": "a25609a4-f480-40ad-8217-06172b444d36"
      },
      "execution_count": 59,
      "outputs": [
        {
          "output_type": "error",
          "ename": "ValueError",
          "evalue": "Value of 'x' is not the name of a column in 'data_frame'. Expected one of ['CD_MESO', 'NM_MESO', 'MUNICIPIO', 'id', 'Pop_Total_Muni', 'Cor ou raça', 'Total', 'Rede geral, rede pluvial ou fossa ligada à rede', 'Rede geral ou pluvial', 'Fossa séptica ou fossa filtro ligada à rede', 'Fossa séptica ou fossa filtro não ligada à rede', 'Fossa rudimentar ou buraco', 'Vala', 'Rio, lago, córrego ou mar', 'Outra forma', 'Não tinham banheiro nem sanitário', 'Rede geral, rede pluvial ou fossa ligada à rede%', 'Rede geral ou pluvial%', 'Fossa séptica ou fossa filtro ligada à rede%', 'Fossa séptica ou fossa filtro não ligada à rede%', 'Fossa rudimentar ou buraco%', 'Vala%', 'Rio, lago, córrego ou mar%', 'Outra forma%', 'Não tinham banheiro nem sanitário%'] but received: Negra%",
          "traceback": [
            "\u001b[0;31m---------------------------------------------------------------------------\u001b[0m",
            "\u001b[0;31mValueError\u001b[0m                                Traceback (most recent call last)",
            "\u001b[0;32m<ipython-input-59-c6ed74fb3556>\u001b[0m in \u001b[0;36m<cell line: 2>\u001b[0;34m()\u001b[0m\n\u001b[1;32m      1\u001b[0m \u001b[0;31m# Visualização interativa com Plotly para esgotamento sanitário\u001b[0m\u001b[0;34m\u001b[0m\u001b[0;34m\u001b[0m\u001b[0m\n\u001b[0;32m----> 2\u001b[0;31m \u001b[0mfig\u001b[0m \u001b[0;34m=\u001b[0m \u001b[0mpx\u001b[0m\u001b[0;34m.\u001b[0m\u001b[0mhistogram\u001b[0m\u001b[0;34m(\u001b[0m\u001b[0mdf_esgoto\u001b[0m\u001b[0;34m,\u001b[0m \u001b[0mx\u001b[0m\u001b[0;34m=\u001b[0m\u001b[0;34m'Negra%'\u001b[0m\u001b[0;34m,\u001b[0m \u001b[0mtitle\u001b[0m\u001b[0;34m=\u001b[0m\u001b[0;34m'Distribuição de Esgotamento Sanitário por Raça'\u001b[0m\u001b[0;34m)\u001b[0m\u001b[0;34m\u001b[0m\u001b[0;34m\u001b[0m\u001b[0m\n\u001b[0m\u001b[1;32m      3\u001b[0m \u001b[0mfig\u001b[0m\u001b[0;34m.\u001b[0m\u001b[0mshow\u001b[0m\u001b[0;34m(\u001b[0m\u001b[0;34m)\u001b[0m\u001b[0;34m\u001b[0m\u001b[0;34m\u001b[0m\u001b[0m\n",
            "\u001b[0;32m/usr/local/lib/python3.10/dist-packages/plotly/express/_chart_types.py\u001b[0m in \u001b[0;36mhistogram\u001b[0;34m(data_frame, x, y, color, pattern_shape, facet_row, facet_col, facet_col_wrap, facet_row_spacing, facet_col_spacing, hover_name, hover_data, animation_frame, animation_group, category_orders, labels, color_discrete_sequence, color_discrete_map, pattern_shape_sequence, pattern_shape_map, marginal, opacity, orientation, barmode, barnorm, histnorm, log_x, log_y, range_x, range_y, histfunc, cumulative, nbins, text_auto, title, template, width, height)\u001b[0m\n\u001b[1;32m    478\u001b[0m     `orientation` is `'h'`).\n\u001b[1;32m    479\u001b[0m     \"\"\"\n\u001b[0;32m--> 480\u001b[0;31m     return make_figure(\n\u001b[0m\u001b[1;32m    481\u001b[0m         \u001b[0margs\u001b[0m\u001b[0;34m=\u001b[0m\u001b[0mlocals\u001b[0m\u001b[0;34m(\u001b[0m\u001b[0;34m)\u001b[0m\u001b[0;34m,\u001b[0m\u001b[0;34m\u001b[0m\u001b[0;34m\u001b[0m\u001b[0m\n\u001b[1;32m    482\u001b[0m         \u001b[0mconstructor\u001b[0m\u001b[0;34m=\u001b[0m\u001b[0mgo\u001b[0m\u001b[0;34m.\u001b[0m\u001b[0mHistogram\u001b[0m\u001b[0;34m,\u001b[0m\u001b[0;34m\u001b[0m\u001b[0;34m\u001b[0m\u001b[0m\n",
            "\u001b[0;32m/usr/local/lib/python3.10/dist-packages/plotly/express/_core.py\u001b[0m in \u001b[0;36mmake_figure\u001b[0;34m(args, constructor, trace_patch, layout_patch)\u001b[0m\n\u001b[1;32m   2115\u001b[0m     \u001b[0mapply_default_cascade\u001b[0m\u001b[0;34m(\u001b[0m\u001b[0margs\u001b[0m\u001b[0;34m)\u001b[0m\u001b[0;34m\u001b[0m\u001b[0;34m\u001b[0m\u001b[0m\n\u001b[1;32m   2116\u001b[0m \u001b[0;34m\u001b[0m\u001b[0m\n\u001b[0;32m-> 2117\u001b[0;31m     \u001b[0margs\u001b[0m \u001b[0;34m=\u001b[0m \u001b[0mbuild_dataframe\u001b[0m\u001b[0;34m(\u001b[0m\u001b[0margs\u001b[0m\u001b[0;34m,\u001b[0m \u001b[0mconstructor\u001b[0m\u001b[0;34m)\u001b[0m\u001b[0;34m\u001b[0m\u001b[0;34m\u001b[0m\u001b[0m\n\u001b[0m\u001b[1;32m   2118\u001b[0m     \u001b[0;32mif\u001b[0m \u001b[0mconstructor\u001b[0m \u001b[0;32min\u001b[0m \u001b[0;34m[\u001b[0m\u001b[0mgo\u001b[0m\u001b[0;34m.\u001b[0m\u001b[0mTreemap\u001b[0m\u001b[0;34m,\u001b[0m \u001b[0mgo\u001b[0m\u001b[0;34m.\u001b[0m\u001b[0mSunburst\u001b[0m\u001b[0;34m,\u001b[0m \u001b[0mgo\u001b[0m\u001b[0;34m.\u001b[0m\u001b[0mIcicle\u001b[0m\u001b[0;34m]\u001b[0m \u001b[0;32mand\u001b[0m \u001b[0margs\u001b[0m\u001b[0;34m[\u001b[0m\u001b[0;34m\"path\"\u001b[0m\u001b[0;34m]\u001b[0m \u001b[0;32mis\u001b[0m \u001b[0;32mnot\u001b[0m \u001b[0;32mNone\u001b[0m\u001b[0;34m:\u001b[0m\u001b[0;34m\u001b[0m\u001b[0;34m\u001b[0m\u001b[0m\n\u001b[1;32m   2119\u001b[0m         \u001b[0margs\u001b[0m \u001b[0;34m=\u001b[0m \u001b[0mprocess_dataframe_hierarchy\u001b[0m\u001b[0;34m(\u001b[0m\u001b[0margs\u001b[0m\u001b[0;34m)\u001b[0m\u001b[0;34m\u001b[0m\u001b[0;34m\u001b[0m\u001b[0m\n",
            "\u001b[0;32m/usr/local/lib/python3.10/dist-packages/plotly/express/_core.py\u001b[0m in \u001b[0;36mbuild_dataframe\u001b[0;34m(args, constructor)\u001b[0m\n\u001b[1;32m   1511\u001b[0m     \u001b[0;31m# now that things have been prepped, we do the systematic rewriting of `args`\u001b[0m\u001b[0;34m\u001b[0m\u001b[0;34m\u001b[0m\u001b[0m\n\u001b[1;32m   1512\u001b[0m \u001b[0;34m\u001b[0m\u001b[0m\n\u001b[0;32m-> 1513\u001b[0;31m     df_output, wide_id_vars = process_args_into_dataframe(\n\u001b[0m\u001b[1;32m   1514\u001b[0m         \u001b[0margs\u001b[0m\u001b[0;34m,\u001b[0m \u001b[0mwide_mode\u001b[0m\u001b[0;34m,\u001b[0m \u001b[0mvar_name\u001b[0m\u001b[0;34m,\u001b[0m \u001b[0mvalue_name\u001b[0m\u001b[0;34m\u001b[0m\u001b[0;34m\u001b[0m\u001b[0m\n\u001b[1;32m   1515\u001b[0m     )\n",
            "\u001b[0;32m/usr/local/lib/python3.10/dist-packages/plotly/express/_core.py\u001b[0m in \u001b[0;36mprocess_args_into_dataframe\u001b[0;34m(args, wide_mode, var_name, value_name)\u001b[0m\n\u001b[1;32m   1232\u001b[0m                         \u001b[0;32mif\u001b[0m \u001b[0margument\u001b[0m \u001b[0;34m==\u001b[0m \u001b[0;34m\"index\"\u001b[0m\u001b[0;34m:\u001b[0m\u001b[0;34m\u001b[0m\u001b[0;34m\u001b[0m\u001b[0m\n\u001b[1;32m   1233\u001b[0m                             \u001b[0merr_msg\u001b[0m \u001b[0;34m+=\u001b[0m \u001b[0;34m\"\\n To use the index, pass it in directly as `df.index`.\"\u001b[0m\u001b[0;34m\u001b[0m\u001b[0;34m\u001b[0m\u001b[0m\n\u001b[0;32m-> 1234\u001b[0;31m                         \u001b[0;32mraise\u001b[0m \u001b[0mValueError\u001b[0m\u001b[0;34m(\u001b[0m\u001b[0merr_msg\u001b[0m\u001b[0;34m)\u001b[0m\u001b[0;34m\u001b[0m\u001b[0;34m\u001b[0m\u001b[0m\n\u001b[0m\u001b[1;32m   1235\u001b[0m                 \u001b[0;32melif\u001b[0m \u001b[0mlength\u001b[0m \u001b[0;32mand\u001b[0m \u001b[0mlen\u001b[0m\u001b[0;34m(\u001b[0m\u001b[0mdf_input\u001b[0m\u001b[0;34m[\u001b[0m\u001b[0margument\u001b[0m\u001b[0;34m]\u001b[0m\u001b[0;34m)\u001b[0m \u001b[0;34m!=\u001b[0m \u001b[0mlength\u001b[0m\u001b[0;34m:\u001b[0m\u001b[0;34m\u001b[0m\u001b[0;34m\u001b[0m\u001b[0m\n\u001b[1;32m   1236\u001b[0m                     raise ValueError(\n",
            "\u001b[0;31mValueError\u001b[0m: Value of 'x' is not the name of a column in 'data_frame'. Expected one of ['CD_MESO', 'NM_MESO', 'MUNICIPIO', 'id', 'Pop_Total_Muni', 'Cor ou raça', 'Total', 'Rede geral, rede pluvial ou fossa ligada à rede', 'Rede geral ou pluvial', 'Fossa séptica ou fossa filtro ligada à rede', 'Fossa séptica ou fossa filtro não ligada à rede', 'Fossa rudimentar ou buraco', 'Vala', 'Rio, lago, córrego ou mar', 'Outra forma', 'Não tinham banheiro nem sanitário', 'Rede geral, rede pluvial ou fossa ligada à rede%', 'Rede geral ou pluvial%', 'Fossa séptica ou fossa filtro ligada à rede%', 'Fossa séptica ou fossa filtro não ligada à rede%', 'Fossa rudimentar ou buraco%', 'Vala%', 'Rio, lago, córrego ou mar%', 'Outra forma%', 'Não tinham banheiro nem sanitário%'] but received: Negra%"
          ]
        }
      ]
    },
    {
      "cell_type": "code",
      "source": [
        "# Criar mapa choropleth para visualização geoespacial\n",
        "mapa = criar_mapa_choropleth(dados, 'NEGRA%', 'Percentual de População Negra')\n",
        "mapa.save(caminho_das_bases + '/MapaNegrosMunicipiosRJ.html')"
      ],
      "metadata": {
        "id": "WnLOO0KK50M2"
      },
      "execution_count": null,
      "outputs": []
    },
    {
      "cell_type": "code",
      "source": [
        "# Funções Utilitárias\n",
        "\n",
        "def carregar_dados_geograficos(caminho_geojson):\n",
        "    \"\"\"Carrega os dados geográficos a partir de um arquivo GeoJSON.\"\"\"\n",
        "    gdf = gpd.read_file(caminho_geojson)\n",
        "    gdf['CD_MUN'] = gdf['CD_MUN'].astype(int)\n",
        "    print(f\"Dados geográficos carregados: {gdf.shape[0]} registros.\")\n",
        "    return gdf\n",
        "\n",
        "def carregar_dados_estatisticos(caminho_csv, caminho_excel1, caminho_excel2):\n",
        "    \"\"\"Carrega os dados estatísticos de esgotamento, lixo e água.\"\"\"\n",
        "    esgoto = pd.read_csv(caminho_csv)\n",
        "    lixo = pd.read_excel(caminho_excel1)\n",
        "    agua = pd.read_excel(caminho_excel2)\n",
        "    print(\"Dados estatísticos carregados.\")\n",
        "    return esgoto, lixo, agua\n",
        "\n",
        "def merge_dados_geograficos(gdf, df_estatistico, coluna_geografica, coluna_estatistica):\n",
        "    \"\"\"Faz o merge dos dados geográficos com os estatísticos.\"\"\"\n",
        "    merged = gdf.merge(df_estatistico, left_on=coluna_geografica, right_on=coluna_estatistica, how='left')\n",
        "    print(f\"Merge realizado: {merged.shape[0]} registros.\")\n",
        "    return merged\n",
        "\n",
        "def tratar_percentuais(df, colunas):\n",
        "    \"\"\"Converte as colunas de percentual para o tipo float e substitui vírgulas por pontos.\"\"\"\n",
        "    for coluna in colunas:\n",
        "        df[coluna] = df[coluna].str.replace(',', '.').astype(float)\n",
        "    return df\n",
        "\n",
        "def calcular_centroides(df):\n",
        "    \"\"\"Calcula os centroides das geometrias e adiciona colunas de latitude e longitude.\"\"\"\n",
        "    df['latitude'] = df['geometry'].centroid.y\n",
        "    df['longitude'] = df['geometry'].centroid.x\n",
        "    return df\n",
        "\n",
        "def plotar_setores_censitarios(gdf, titulo):\n",
        "    \"\"\"Plota os setores censitários em um gráfico com título especificado.\"\"\"\n",
        "    ax = gdf.plot(figsize=(10, 10))\n",
        "    ax.set_title(titulo)\n",
        "    plt.show()\n",
        "\n",
        "def criar_mapa_interativo_com_circulos(gdf):\n",
        "    \"\"\"Cria um mapa interativo com os dados geográficos e adiciona círculos representando a proporção de população negra.\"\"\"\n",
        "    mapa = folium.Map(location=[-22.9, -43.2], zoom_start=8)\n",
        "    folium.GeoJson(gdf).add_to(mapa)\n",
        "\n",
        "    # Adicionar círculos interativos ao mapa\n",
        "    for i in range(len(gdf)):\n",
        "        folium.Circle(\n",
        "            location=[gdf.iloc[i]['latitude'], gdf.iloc[i]['longitude']],\n",
        "            color='#00FF69',\n",
        "            fill=True,\n",
        "            fill_color='#00A1B3',\n",
        "            tooltip=('<li><b>Município:</b> ' + str(gdf.iloc[i]['NM_MUN']) + '</li>' +\n",
        "                     '<li><b>Representatividade:</b> ' + str(round(gdf.iloc[i]['Negra%'], 2)) + '%</li>'),\n",
        "            radius=(gdf.iloc[i]['Negra%'] ** 2)\n",
        "        ).add_to(mapa)\n",
        "\n",
        "    return mapa"
      ],
      "metadata": {
        "id": "kzRnTnpO522Z"
      },
      "execution_count": null,
      "outputs": []
    },
    {
      "cell_type": "code",
      "source": [
        "# Caminhos dos arquivos\n",
        "caminho_geojson = 'RJ_Malha_Preliminar_Distrito_2022.json'\n",
        "caminho_esgoto = 'NegrosEsgoto_EsgotoRJ.csv'\n",
        "caminho_lixo = 'NegrosBrancosLixo.xlsx'\n",
        "caminho_agua = 'NegrosBrancos_Agua.xlsx'"
      ],
      "metadata": {
        "id": "bOCK5KU2HeaM"
      },
      "execution_count": null,
      "outputs": []
    },
    {
      "cell_type": "code",
      "source": [
        "# Carregar dados geográficos e estatísticos\n",
        "rj = carregar_dados_geograficos(caminho_geojson)\n",
        "esgoto, lixo, agua = carregar_dados_estatisticos(caminho_esgoto, caminho_lixo, caminho_agua)"
      ],
      "metadata": {
        "id": "vdErX-5nHiPz"
      },
      "execution_count": null,
      "outputs": []
    },
    {
      "cell_type": "code",
      "source": [
        "# Merge dos dados geográficos com os dados estatísticos\n",
        "dados_rj = merge_dados_geograficos(rj, esgoto, 'CD_MUN', 'COD_IBGE')"
      ],
      "metadata": {
        "id": "QMQbV0tTHlwO"
      },
      "execution_count": null,
      "outputs": []
    },
    {
      "cell_type": "code",
      "source": [
        "# Ajuste de tipos de dados para colunas de percentuais\n",
        "colunas_percentuais = ['Branca%', 'Negra%', 'Brancos_Nao_possui_Esgotamento_Sanitario%']\n",
        "dados_rj = tratar_percentuais(dados_rj, colunas_percentuais)"
      ],
      "metadata": {
        "id": "-slIXuTnHpDj"
      },
      "execution_count": null,
      "outputs": []
    },
    {
      "cell_type": "code",
      "source": [
        "# Cálculo dos centroides geográficos\n",
        "dados_rj = calcular_centroides(dados_rj)"
      ],
      "metadata": {
        "id": "xIekN_9ZHr3r"
      },
      "execution_count": null,
      "outputs": []
    },
    {
      "cell_type": "code",
      "source": [
        "# Plotagem dos setores censitários\n",
        "plotar_setores_censitarios(dados_rj, 'Setores Censitários - Estado RJ')"
      ],
      "metadata": {
        "id": "dFINzNISHuer"
      },
      "execution_count": null,
      "outputs": []
    },
    {
      "cell_type": "code",
      "source": [
        "# Criação do mapa interativo com círculos\n",
        "mapa_interativo_com_circulos = criar_mapa_interativo_com_circulos(dados_rj)\n",
        "mapa_interativo_com_circulos.save('Mapa_Interativo_Circulos_Setores_Censitarios.html')"
      ],
      "metadata": {
        "id": "pKge8Ue-Hxxc"
      },
      "execution_count": null,
      "outputs": []
    },
    {
      "cell_type": "code",
      "source": [
        "# Exibir mapa interativo\n",
        "mapa_interativo_com_circulos"
      ],
      "metadata": {
        "id": "MyZyNU_1H03y"
      },
      "execution_count": null,
      "outputs": []
    }
  ]
}